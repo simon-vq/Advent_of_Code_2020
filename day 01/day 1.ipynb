{
 "cells": [
  {
   "cell_type": "markdown",
   "metadata": {},
   "source": [
    "## Import data "
   ]
  },
  {
   "cell_type": "code",
   "execution_count": 1,
   "metadata": {},
   "outputs": [],
   "source": [
    "data = [int(line.rstrip()) for line in open('input.txt', 'r')]\n",
    "goal = 2020\n"
   ]
  },
  {
   "cell_type": "markdown",
   "metadata": {},
   "source": [
    "## part 1"
   ]
  },
  {
   "cell_type": "code",
   "execution_count": 2,
   "metadata": {},
   "outputs": [
    {
     "data": {
      "text/plain": [
       "'answer = 1014624'"
      ]
     },
     "execution_count": 2,
     "metadata": {},
     "output_type": "execute_result"
    }
   ],
   "source": [
    "def two_items(data, goal):\n",
    "    for i, d in enumerate(data):\n",
    "        for j, d2 in enumerate(data[i:]):\n",
    "            if d + d2 == goal:\n",
    "                return f'answer = {d*d2}'\n",
    "    return 'no answer'\n",
    "\n",
    "two_items(data, goal)    "
   ]
  },
  {
   "cell_type": "markdown",
   "metadata": {},
   "source": [
    "## part 2\n"
   ]
  },
  {
   "cell_type": "code",
   "execution_count": 3,
   "metadata": {},
   "outputs": [
    {
     "data": {
      "text/plain": [
       "'answer = 80072256'"
      ]
     },
     "execution_count": 3,
     "metadata": {},
     "output_type": "execute_result"
    }
   ],
   "source": [
    "def three_items(data, goal):\n",
    "    for i, d in enumerate(data):\n",
    "        for j, d2 in enumerate(data[i:]):\n",
    "            for k, d3 in enumerate(data[j:]):\n",
    "                if d + d2 + d3 == goal:\n",
    "                    return f'answer = {d*d2*d3}'\n",
    "    return 'no answer'\n",
    "                \n",
    "three_items(data, goal)   "
   ]
  },
  {
   "cell_type": "code",
   "execution_count": 4,
   "metadata": {},
   "outputs": [
    {
     "data": {
      "text/plain": [
       "'answer = 80072256'"
      ]
     },
     "execution_count": 4,
     "metadata": {},
     "output_type": "execute_result"
    }
   ],
   "source": [
    "def three_items_set(data, goal):\n",
    "    data = list(set(data))\n",
    "    for i, d in enumerate(data):\n",
    "        for j, d2 in enumerate(data[i:]):\n",
    "            for k, d3 in enumerate(data[j:]):\n",
    "                if d + d2 + d3 == goal:\n",
    "                    return f'answer = {d*d2*d3}'\n",
    "    return 'no answer'\n",
    "                \n",
    "three_items(data, goal)   "
   ]
  },
  {
   "cell_type": "code",
   "execution_count": 12,
   "metadata": {},
   "outputs": [
    {
     "data": {
      "text/plain": [
       "'answer = 80072256'"
      ]
     },
     "execution_count": 12,
     "metadata": {},
     "output_type": "execute_result"
    }
   ],
   "source": [
    "def three_items_2_loops(data, goal):\n",
    "    data_set = set(data)\n",
    "    for i, d in enumerate(data):\n",
    "        n_to_find = goal - d\n",
    "        for j, d2 in enumerate(data[i:]):\n",
    "            n_to_find -= d2\n",
    "            if n_to_find in data_set:\n",
    "                return f'answer = {d*d2*n_to_find}'\n",
    "\n",
    "    return 'no answer'\n",
    "                \n",
    "three_items(data, goal)   "
   ]
  },
  {
   "cell_type": "markdown",
   "metadata": {},
   "source": [
    "## Timings"
   ]
  },
  {
   "cell_type": "code",
   "execution_count": 6,
   "metadata": {
    "scrolled": true
   },
   "outputs": [
    {
     "name": "stdout",
     "output_type": "stream",
     "text": [
      "593 µs ± 8.03 µs per loop (mean ± std. dev. of 7 runs, 1000 loops each)\n"
     ]
    }
   ],
   "source": [
    "%timeit two_items(data, goal)"
   ]
  },
  {
   "cell_type": "code",
   "execution_count": 7,
   "metadata": {},
   "outputs": [
    {
     "name": "stdout",
     "output_type": "stream",
     "text": [
      "30.6 ms ± 711 µs per loop (mean ± std. dev. of 7 runs, 10 loops each)\n"
     ]
    }
   ],
   "source": [
    "%timeit three_items(data, goal)   "
   ]
  },
  {
   "cell_type": "code",
   "execution_count": 8,
   "metadata": {},
   "outputs": [
    {
     "name": "stdout",
     "output_type": "stream",
     "text": [
      "39 ms ± 519 µs per loop (mean ± std. dev. of 7 runs, 10 loops each)\n"
     ]
    }
   ],
   "source": [
    "%timeit three_items_set(data, goal)   "
   ]
  },
  {
   "cell_type": "code",
   "execution_count": 13,
   "metadata": {},
   "outputs": [
    {
     "name": "stdout",
     "output_type": "stream",
     "text": [
      "1.42 ms ± 4.32 µs per loop (mean ± std. dev. of 7 runs, 1000 loops each)\n"
     ]
    }
   ],
   "source": [
    "%timeit three_items_2_loops(data, goal)   "
   ]
  }
 ],
 "metadata": {
  "kernelspec": {
   "display_name": "Python 3",
   "language": "python",
   "name": "python3"
  },
  "language_info": {
   "codemirror_mode": {
    "name": "ipython",
    "version": 3
   },
   "file_extension": ".py",
   "mimetype": "text/x-python",
   "name": "python",
   "nbconvert_exporter": "python",
   "pygments_lexer": "ipython3",
   "version": "3.7.7"
  }
 },
 "nbformat": 4,
 "nbformat_minor": 4
}
