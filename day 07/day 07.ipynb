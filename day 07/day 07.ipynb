{
 "cells": [
  {
   "cell_type": "code",
   "execution_count": 1,
   "metadata": {},
   "outputs": [],
   "source": [
    "data = [line.rstrip() for line in open('input.txt', 'r')]"
   ]
  },
  {
   "cell_type": "code",
   "execution_count": 2,
   "metadata": {
    "scrolled": true
   },
   "outputs": [],
   "source": [
    "import re\n",
    "bag_dict = {}\n",
    "\n",
    "for line in data:\n",
    "    res = re.findall('([a-zA-Z]{1,}\\s[a-zA-Z]{1,})|([0-9]+)', line)\n",
    "    \n",
    "    bag = res[0][0]\n",
    "    # res[1] always 'bags contain'\n",
    "    contains = res[2:].copy()\n",
    "    inside_bags = []\n",
    "    bag_values = []\n",
    "    for r in contains:\n",
    "        if r[0]: # if bag match\n",
    "            inside_bags.append(r[0])\n",
    "        elif r[1]: #number\n",
    "            bag_values.append(int(r[1]))\n",
    "\n",
    "    inside_bag_dict = {k:v for k,v in zip(inside_bags,bag_values)}\n",
    "    bag_dict[bag] = inside_bag_dict"
   ]
  },
  {
   "cell_type": "markdown",
   "metadata": {},
   "source": [
    "## part 1"
   ]
  },
  {
   "cell_type": "code",
   "execution_count": 3,
   "metadata": {},
   "outputs": [
    {
     "data": {
      "text/plain": [
       "144"
      ]
     },
     "execution_count": 3,
     "metadata": {},
     "output_type": "execute_result"
    }
   ],
   "source": [
    "holds_gold = {}\n",
    "my_bag = 'shiny gold'\n",
    "\n",
    "def search_bag(colour):\n",
    "    current_bag = bag_dict[colour]\n",
    "\n",
    "    if my_bag in current_bag:\n",
    "        holds_gold[colour] = True\n",
    "        return True # exits \n",
    "\n",
    "    # check inner bags to see if they can hold\n",
    "    inner_bags_hold_gold = []\n",
    "    for inner_colour in current_bag:\n",
    "        if inner_colour in holds_gold:\n",
    "            # if inner colour idenitified as being able to hold gold add to temp list\n",
    "            inner_bags_hold_gold.append(True)\n",
    "        else:         \n",
    "            # check if inner bags can hold gold\n",
    "            inner_bags_hold_gold.append(search_bag(inner_colour))\n",
    "\n",
    "    # if any inner bags can hold gold add to dict\n",
    "    if any(inner_bags_hold_gold):\n",
    "        holds_gold[colour] = True\n",
    "        return True\n",
    "    else:\n",
    "        return False\n",
    "\n",
    "\n",
    "#loop through bags \n",
    "for colour in bag_dict:\n",
    "    search_bag(colour)\n",
    "\n",
    "len(holds_gold)"
   ]
  },
  {
   "cell_type": "markdown",
   "metadata": {},
   "source": [
    "## part 2"
   ]
  },
  {
   "cell_type": "code",
   "execution_count": 4,
   "metadata": {},
   "outputs": [
    {
     "data": {
      "text/plain": [
       "5956"
      ]
     },
     "execution_count": 4,
     "metadata": {},
     "output_type": "execute_result"
    }
   ],
   "source": [
    "my_bag_colour = 'shiny gold'\n",
    "\n",
    "def get_num_of_bags(colour):\n",
    "    current_bag = bag_dict[colour]\n",
    "    current_mulit = []\n",
    "    if current_bag == {}:\n",
    "        current_mulit.append(0)\n",
    "    \n",
    "    for sub_colour in current_bag:\n",
    "        current_mulit.append(current_bag[sub_colour] * ( 1 + get_num_of_bags(sub_colour)))\n",
    "    return sum(current_mulit)\n",
    "\n",
    "get_num_of_bags(my_bag_colour) \n",
    "\n"
   ]
  }
 ],
 "metadata": {
  "kernelspec": {
   "display_name": "Python 3",
   "language": "python",
   "name": "python3"
  },
  "language_info": {
   "codemirror_mode": {
    "name": "ipython",
    "version": 3
   },
   "file_extension": ".py",
   "mimetype": "text/x-python",
   "name": "python",
   "nbconvert_exporter": "python",
   "pygments_lexer": "ipython3",
   "version": "3.7.7"
  }
 },
 "nbformat": 4,
 "nbformat_minor": 4
}
