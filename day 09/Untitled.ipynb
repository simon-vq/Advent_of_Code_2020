{
 "cells": [
  {
   "cell_type": "code",
   "execution_count": 42,
   "metadata": {},
   "outputs": [],
   "source": [
    "data = [int(line.rstrip()) for line in open('input.txt','r')]\n"
   ]
  },
  {
   "cell_type": "markdown",
   "metadata": {},
   "source": [
    "## part 1"
   ]
  },
  {
   "cell_type": "code",
   "execution_count": 46,
   "metadata": {},
   "outputs": [
    {
     "name": "stdout",
     "output_type": "stream",
     "text": [
      "22477624\n"
     ]
    }
   ],
   "source": [
    "window_size = 25\n",
    "\n",
    "for i,v in enumerate(data):\n",
    "    preabmle = data[i:i+window_size]\n",
    "    value_pos = i+window_size\n",
    "    if value_pos >= len(data):\n",
    "        break\n",
    "    else:\n",
    "        value = data[value_pos]\n",
    "\n",
    "    pair = False\n",
    "    for item in preabmle:\n",
    "        copy_preamble = preabmle.copy()\n",
    "        copy_preamble.remove(item)\n",
    "        remaining = value - item\n",
    "        if remaining in copy_preamble:\n",
    "            pair = True\n",
    "            break\n",
    "\n",
    "    if not pair:\n",
    "        print(value)\n",
    "        break"
   ]
  },
  {
   "cell_type": "markdown",
   "metadata": {},
   "source": [
    "## part 2"
   ]
  },
  {
   "cell_type": "code",
   "execution_count": 58,
   "metadata": {},
   "outputs": [
    {
     "name": "stdout",
     "output_type": "stream",
     "text": [
      "[895445, 1081046, 994874, 1039612, 1071827, 1143075, 1239647, 1385449, 1217317, 1331670, 1346104, 1438234, 1422106, 1472136, 2084599, 1485663, 1828820]\n",
      "17\n",
      "MIN: 895445, MAX: 2084599\n",
      "SUM: 2980044\n"
     ]
    }
   ],
   "source": [
    "goal = 22477624\n",
    "for i, v in enumerate(data):\n",
    "    win_range = range(0,len(data))\n",
    "    \n",
    "    for j in range(i+1,len(data)):\n",
    "        preabmle = data[i:j]    \n",
    "        if max(preabmle)> goal:\n",
    "            break\n",
    "        else:\n",
    "            if sum(preabmle) == goal and len(preabmle) > 1:\n",
    "                print(preabmle)\n",
    "                print(len(preabmle))\n",
    "                min_pre = min(preabmle)\n",
    "                max_pre = max(preabmle)\n",
    "                print(f'MIN: {min_pre}, MAX: {max_pre}')\n",
    "                print(f'SUM: {min_pre+max_pre}')\n"
   ]
  },
  {
   "cell_type": "code",
   "execution_count": null,
   "metadata": {},
   "outputs": [],
   "source": []
  }
 ],
 "metadata": {
  "kernelspec": {
   "display_name": "Python 3",
   "language": "python",
   "name": "python3"
  },
  "language_info": {
   "codemirror_mode": {
    "name": "ipython",
    "version": 3
   },
   "file_extension": ".py",
   "mimetype": "text/x-python",
   "name": "python",
   "nbconvert_exporter": "python",
   "pygments_lexer": "ipython3",
   "version": "3.7.7"
  }
 },
 "nbformat": 4,
 "nbformat_minor": 4
}
