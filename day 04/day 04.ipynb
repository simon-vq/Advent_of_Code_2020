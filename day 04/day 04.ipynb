{
 "cells": [
  {
   "cell_type": "code",
   "execution_count": 1,
   "metadata": {},
   "outputs": [],
   "source": [
    "data = [line.split() for line in open(\"input.txt\")]\n",
    "# data = [line.split() for line in open(\"test.txt\")]"
   ]
  },
  {
   "cell_type": "markdown",
   "metadata": {},
   "source": [
    "### split into dict"
   ]
  },
  {
   "cell_type": "code",
   "execution_count": 2,
   "metadata": {},
   "outputs": [],
   "source": [
    "def order_passports(data):\n",
    "    count = 0\n",
    "    passports = {}\n",
    "    for line in data:\n",
    "        if len(line) > 0:\n",
    "            for item in line:\n",
    "                if count in passports:\n",
    "                    k,v = item.split(':')\n",
    "                    passports[count][k] = v                 \n",
    "                else:\n",
    "                    k,v =  item.split(':')\n",
    "                    passports[count] = {k:v}\n",
    "        else:\n",
    "            count+=1\n",
    "    return passports\n",
    "passports = order_passports(data)\n"
   ]
  },
  {
   "cell_type": "code",
   "execution_count": 3,
   "metadata": {},
   "outputs": [],
   "source": [
    "passport_filed = ['ecl', 'pid', 'eyr', 'hcl','byr', 'iyr', 'cid', 'hgt']\n",
    "new_passport_req = passport_filed.copy()\n",
    "new_passport_req.remove('cid')"
   ]
  },
  {
   "cell_type": "markdown",
   "metadata": {},
   "source": [
    "## part 1"
   ]
  },
  {
   "cell_type": "code",
   "execution_count": 4,
   "metadata": {},
   "outputs": [
    {
     "data": {
      "text/plain": [
       "237"
      ]
     },
     "execution_count": 4,
     "metadata": {},
     "output_type": "execute_result"
    }
   ],
   "source": [
    "valid_passports = 0\n",
    "for key in passports:\n",
    "    fields = list(passports[key].keys())\n",
    "    if all(item in fields for item in new_passport_req):\n",
    "        valid_passports +=1\n",
    "valid_passports\n",
    "    \n"
   ]
  },
  {
   "cell_type": "markdown",
   "metadata": {},
   "source": [
    "## part 2"
   ]
  },
  {
   "cell_type": "code",
   "execution_count": 5,
   "metadata": {},
   "outputs": [
    {
     "data": {
      "text/plain": [
       "172"
      ]
     },
     "execution_count": 5,
     "metadata": {},
     "output_type": "execute_result"
    }
   ],
   "source": [
    "import re\n",
    "\n",
    "validation = {\n",
    "    'ecl':['amb', 'blu' ,'brn' ,'gry', 'grn', 'hzl', 'oth'],\n",
    "    'pid': '^[0-9]{9}$', \n",
    "    'eyr' : [2020,2030], \n",
    "    'hcl': '^#[0-9,a-z]{6}$',\n",
    "    'byr': [1920,2002], \n",
    "    'iyr' : [2010,2020], \n",
    "    'hgt' : {'cm':[150,193], 'in':[59,76]}\n",
    "    }\n",
    "\n",
    "def valid_item(items, data):\n",
    "    if data in items:\n",
    "        return True\n",
    "    return False\n",
    "\n",
    "def valid_regex(regex, data):\n",
    "    return re.search(regex, data)\n",
    "\n",
    "def valid_minmax(value_range, data):\n",
    "    min_value = min(value_range)\n",
    "    max_value = max(value_range)\n",
    "    if int(data) >= min_value and \\\n",
    "    int(data)<=max_value:\n",
    "        return True\n",
    "    return False\n",
    "\n",
    "def check_valid_passport(passport, new_passport_req, validation):\n",
    "    fields = list(passport.keys())\n",
    "    if all(item in fields for item in new_passport_req):\n",
    "        checks = []\n",
    "        #'ecl'\n",
    "        checks.append(valid_item(validation['ecl'], passport['ecl']))\n",
    "        #pid\n",
    "        checks.append(valid_regex(validation['pid'], passport['pid']))\n",
    "        #eyr\n",
    "        checks.append(valid_minmax(validation['eyr'], passport['eyr']))\n",
    "        #hcl\n",
    "        checks.append(valid_regex(validation['hcl'], passport['hcl']))\n",
    "        #byr\n",
    "        checks.append(valid_minmax(validation['byr'], passport['byr']))\n",
    "        #iyr\n",
    "        checks.append(valid_minmax(validation['iyr'], passport['iyr']))\n",
    "        #hgt\n",
    "        data = passport['hgt']\n",
    "        if 'cm' in data:\n",
    "            data = int(data[:data.index('c')])\n",
    "            checks.append(valid_minmax(validation['hgt']['cm'], data))\n",
    "        elif 'in' in data:\n",
    "            data = int(data[:data.index('i')])\n",
    "            checks.append(valid_minmax(validation['hgt']['in'], data))\n",
    "        else:\n",
    "            checks.append(False)\n",
    "            \n",
    "        if all(checks):\n",
    "            return True      \n",
    "        \n",
    "    else:\n",
    "        return False\n",
    "    \n",
    "count = 0    \n",
    "for key in passports:\n",
    "    pp = passports[key]\n",
    "    if check_valid_passport(pp,new_passport_req, validation):\n",
    "        count +=1\n",
    "count"
   ]
  }
 ],
 "metadata": {
  "kernelspec": {
   "display_name": "Python 3",
   "language": "python",
   "name": "python3"
  },
  "language_info": {
   "codemirror_mode": {
    "name": "ipython",
    "version": 3
   },
   "file_extension": ".py",
   "mimetype": "text/x-python",
   "name": "python",
   "nbconvert_exporter": "python",
   "pygments_lexer": "ipython3",
   "version": "3.7.7"
  }
 },
 "nbformat": 4,
 "nbformat_minor": 4
}
