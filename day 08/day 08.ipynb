{
 "cells": [
  {
   "cell_type": "code",
   "execution_count": 94,
   "metadata": {},
   "outputs": [],
   "source": [
    "instructions = [line.rstrip().split(' ') for line in open('input.txt','r')]"
   ]
  },
  {
   "cell_type": "code",
   "execution_count": 81,
   "metadata": {},
   "outputs": [],
   "source": [
    "def split_sign(value):\n",
    "    sign = value[0]\n",
    "    value = value[1:]\n",
    "    return sign, int(value)\n",
    "\n",
    "def acc(g_val, sign, value):\n",
    "    if sign == '+':\n",
    "        g_val += value\n",
    "    else:\n",
    "        g_val -= value\n",
    "    return g_val\n",
    "\n",
    "def nop(g_val):\n",
    "    return g_val\n",
    "\n",
    "def jmp(index, sign, value):\n",
    "    if sign == '+':\n",
    "        index += value\n",
    "    else:\n",
    "        index -= value\n",
    "    return index"
   ]
  },
  {
   "cell_type": "markdown",
   "metadata": {},
   "source": [
    "## part 1"
   ]
  },
  {
   "cell_type": "code",
   "execution_count": 82,
   "metadata": {},
   "outputs": [
    {
     "data": {
      "text/plain": [
       "(False, 1671)"
      ]
     },
     "execution_count": 82,
     "metadata": {},
     "output_type": "execute_result"
    }
   ],
   "source": [
    "def run_instrcutions(data):\n",
    "    index = 0\n",
    "    ans = 0\n",
    "    seen_insructions = []\n",
    "    while index < len(data):\n",
    "        current_ins = data[index]\n",
    "        fn = current_ins[0]\n",
    "        sign, value = split_sign(current_ins[1])\n",
    "        if fn == 'jmp':\n",
    "            index = jmp(index, sign, value)\n",
    "        elif fn == 'acc':\n",
    "            ans = acc(ans, sign, value)\n",
    "            index +=1\n",
    "        elif fn == 'nop':\n",
    "        #    ans = nop(ans)\n",
    "            index +=1\n",
    "        if index in seen_insructions:\n",
    "            return False, ans\n",
    "        seen_insructions.append(index)\n",
    "\n",
    "    return True, ans\n",
    "\n",
    "run_instrcutions(instructions)"
   ]
  },
  {
   "cell_type": "markdown",
   "metadata": {},
   "source": [
    "## part 2"
   ]
  },
  {
   "cell_type": "code",
   "execution_count": 99,
   "metadata": {},
   "outputs": [
    {
     "name": "stdout",
     "output_type": "stream",
     "text": [
      "892\n"
     ]
    }
   ],
   "source": [
    "def change_ins(data, index, ins):\n",
    "    new_data = [x.copy() for x in data]\n",
    "    swap = {'jmp':'nop',\n",
    "            'nop':'jmp'}\n",
    "    if ins in swap:\n",
    "        new_data[index][0] = swap[ins]\n",
    "    return new_data\n",
    "    \n",
    "back_up = [x for x in instructions]\n",
    "for i in range(len(instructions)):\n",
    "    current = instructions[i][0]\n",
    "    change = change_ins(instructions, i, current)\n",
    "    complete, ans = run_instrcutions(change)\n",
    "    \n",
    "    if complete:\n",
    "        print(ans)\n",
    "        break\n"
   ]
  }
 ],
 "metadata": {
  "kernelspec": {
   "display_name": "Python 3",
   "language": "python",
   "name": "python3"
  },
  "language_info": {
   "codemirror_mode": {
    "name": "ipython",
    "version": 3
   },
   "file_extension": ".py",
   "mimetype": "text/x-python",
   "name": "python",
   "nbconvert_exporter": "python",
   "pygments_lexer": "ipython3",
   "version": "3.7.7"
  }
 },
 "nbformat": 4,
 "nbformat_minor": 4
}
