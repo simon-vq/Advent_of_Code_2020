{
 "cells": [
  {
   "cell_type": "code",
   "execution_count": 2,
   "metadata": {},
   "outputs": [],
   "source": [
    "instructions = [line.rstrip().split(' ') for line in open('input.txt','r')]"
   ]
  },
  {
   "cell_type": "markdown",
   "metadata": {},
   "source": [
    "## part 1"
   ]
  },
  {
   "cell_type": "code",
   "execution_count": 7,
   "metadata": {},
   "outputs": [
    {
     "data": {
      "text/plain": [
       "(False, 1671)"
      ]
     },
     "execution_count": 7,
     "metadata": {},
     "output_type": "execute_result"
    }
   ],
   "source": [
    "def inc(data, value):\n",
    "    return data + value\n",
    "\n",
    "def run_instrcutions(data):\n",
    "    index, ans = 0, 0\n",
    "    seen = []\n",
    "    while index < len(data):\n",
    "        current_ins = data[index]\n",
    "        fn = current_ins[0]\n",
    "        value = int(current_ins[1])\n",
    "        if fn == 'jmp':\n",
    "            index = inc(index, value)\n",
    "        elif fn == 'acc':\n",
    "            ans = inc(ans, value)\n",
    "            index +=1\n",
    "        elif fn == 'nop':\n",
    "            index +=1\n",
    "        if index in seen:\n",
    "            return False, ans\n",
    "        seen.append(index)\n",
    "    return True, ans\n",
    "\n",
    "run_instrcutions(instructions)"
   ]
  },
  {
   "cell_type": "markdown",
   "metadata": {},
   "source": [
    "## part 2"
   ]
  },
  {
   "cell_type": "code",
   "execution_count": 5,
   "metadata": {},
   "outputs": [
    {
     "name": "stdout",
     "output_type": "stream",
     "text": [
      "892\n"
     ]
    }
   ],
   "source": [
    "def change_ins(data, index, ins):\n",
    "    new_data = [x.copy() for x in data]\n",
    "    swap = {'jmp':'nop',\n",
    "            'nop':'jmp'}\n",
    "    if ins in swap:\n",
    "        new_data[index][0] = swap[ins]\n",
    "    return new_data\n",
    "    \n",
    "for i, row in enumerate(instructions):\n",
    "    changed = change_ins(instructions, i, row[0])\n",
    "    complete, ans = run_instrcutions(changed)\n",
    "    if complete:\n",
    "        print(ans)\n",
    "        break\n"
   ]
  },
  {
   "cell_type": "code",
   "execution_count": null,
   "metadata": {},
   "outputs": [],
   "source": []
  }
 ],
 "metadata": {
  "kernelspec": {
   "display_name": "Python 3",
   "language": "python",
   "name": "python3"
  },
  "language_info": {
   "codemirror_mode": {
    "name": "ipython",
    "version": 3
   },
   "file_extension": ".py",
   "mimetype": "text/x-python",
   "name": "python",
   "nbconvert_exporter": "python",
   "pygments_lexer": "ipython3",
   "version": "3.7.7"
  }
 },
 "nbformat": 4,
 "nbformat_minor": 4
}
