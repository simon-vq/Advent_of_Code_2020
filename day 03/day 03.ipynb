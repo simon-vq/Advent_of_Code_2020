{
 "cells": [
  {
   "cell_type": "code",
   "execution_count": 6,
   "metadata": {
    "scrolled": false
   },
   "outputs": [
    {
     "name": "stdout",
     "output_type": "stream",
     "text": [
      "(323, 31)\n"
     ]
    }
   ],
   "source": [
    "import numpy as np\n",
    "data = []\n",
    "for x in open('input.txt', 'r'):\n",
    "    line = []\n",
    "    for y in x.rstrip():\n",
    "        line.append(y)\n",
    "    data.append(line)\n",
    "field = np.array(data).copy()\n",
    "shape = field.shape\n",
    "print(shape)"
   ]
  },
  {
   "cell_type": "code",
   "execution_count": 7,
   "metadata": {
    "scrolled": false
   },
   "outputs": [],
   "source": [
    "def tree_smasher_2020(right, down, data, print_map=False):\n",
    "    field = np.array(data).copy()\n",
    "    shape = field.shape\n",
    "\n",
    "    tree = '#'\n",
    "    empty = '.'\n",
    "\n",
    "    number_of_trees = 0\n",
    "    for i, y_pos in enumerate(range(0,len(field), down)):\n",
    "      \n",
    "        x_pos = (i * right) % shape[1]\n",
    "\n",
    "\n",
    "        if field[y_pos][x_pos] == empty:\n",
    "            field[y_pos][x_pos] = 'O'\n",
    "\n",
    "        elif field[y_pos][x_pos] == tree:\n",
    "            field[y_pos][x_pos]  = 'X'\n",
    "            number_of_trees += 1\n",
    "        \n",
    "        \n",
    "    if print_map:\n",
    "        for line in field:\n",
    "            print(''.join(line))\n",
    "\n",
    "    return number_of_trees"
   ]
  },
  {
   "cell_type": "code",
   "execution_count": 11,
   "metadata": {
    "scrolled": false
   },
   "outputs": [
    {
     "data": {
      "text/plain": [
       "244"
      ]
     },
     "execution_count": 11,
     "metadata": {},
     "output_type": "execute_result"
    }
   ],
   "source": [
    "tree_smasher_2020(right=3, down=1,  data=data)"
   ]
  },
  {
   "cell_type": "code",
   "execution_count": 9,
   "metadata": {},
   "outputs": [
    {
     "data": {
      "text/plain": [
       "[90, 244, 97, 92, 48]"
      ]
     },
     "execution_count": 9,
     "metadata": {},
     "output_type": "execute_result"
    }
   ],
   "source": [
    "all_runs  = [[1,1], \n",
    "             [3,1], \n",
    "             [5,1], \n",
    "             [7,1], \n",
    "             [1,2]]\n",
    "\n",
    "smashed_trees = [tree_smasher_2020(right=x[0],down=x[1], data=data) for x in all_runs]\n",
    "smashed_trees"
   ]
  },
  {
   "cell_type": "code",
   "execution_count": 10,
   "metadata": {},
   "outputs": [
    {
     "data": {
      "text/plain": [
       "9406609920"
      ]
     },
     "execution_count": 10,
     "metadata": {},
     "output_type": "execute_result"
    }
   ],
   "source": [
    "mult = 1\n",
    "for x in smashed_trees:\n",
    "    mult*=x\n",
    "mult"
   ]
  }
 ],
 "metadata": {
  "kernelspec": {
   "display_name": "Python 3",
   "language": "python",
   "name": "python3"
  },
  "language_info": {
   "codemirror_mode": {
    "name": "ipython",
    "version": 3
   },
   "file_extension": ".py",
   "mimetype": "text/x-python",
   "name": "python",
   "nbconvert_exporter": "python",
   "pygments_lexer": "ipython3",
   "version": "3.7.7"
  }
 },
 "nbformat": 4,
 "nbformat_minor": 4
}
