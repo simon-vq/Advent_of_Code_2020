{
 "cells": [
  {
   "cell_type": "code",
   "execution_count": 1,
   "metadata": {
    "scrolled": false
   },
   "outputs": [],
   "source": [
    "import numpy as np\n",
    "data = [list(x.rstrip()) for x in open('input.txt', 'r')]"
   ]
  },
  {
   "cell_type": "code",
   "execution_count": 2,
   "metadata": {
    "scrolled": false
   },
   "outputs": [],
   "source": [
    "def tree_smasher_2020(right, down, data, print_map=False):\n",
    "    field = np.array(data).copy()\n",
    "    shape = field.shape\n",
    "    tree = '#'\n",
    "    empty = '.'\n",
    "    number_of_trees = 0\n",
    "    \n",
    "    for i, y_pos in enumerate(range(0, len(field), down)):\n",
    "        x_pos = (i * right) % shape[1]\n",
    "        if field[y_pos][x_pos] == empty:\n",
    "            field[y_pos][x_pos] = 'O'\n",
    "        elif field[y_pos][x_pos] == tree:\n",
    "            field[y_pos][x_pos]  = 'X'\n",
    "            number_of_trees += 1\n",
    "    \n",
    "    if print_map:\n",
    "        for line in field:\n",
    "            print(''.join(line))\n",
    "    return number_of_trees\n",
    "\n",
    "\n",
    "def slim_smasher(right, down, data):\n",
    "    field = np.array(data).copy()\n",
    "    shape = field.shape\n",
    "    tree = '#'\n",
    "    number_of_trees = 0\n",
    "    \n",
    "    for i, y_pos in enumerate(range(0, len(field), down)):\n",
    "        x_pos = (i * right) % shape[1]\n",
    "        if field[y_pos][x_pos] == tree:\n",
    "            number_of_trees += 1\n",
    "    return number_of_trees\n",
    "\n",
    "\n",
    "def adder_smasher(right, down, data):\n",
    "    field = np.array(data).copy()\n",
    "    height, width = field.shape\n",
    "    tree = '#'\n",
    "    empty = '.'\n",
    "    number_of_trees = 0\n",
    "    x_pos = 0\n",
    "    y_pos = 0\n",
    "\n",
    "    while y_pos < height:\n",
    "        if field[y_pos][x_pos] == tree:\n",
    "            number_of_trees += 1\n",
    "        y_pos += down\n",
    "        x_pos = (x_pos + right) % width\n",
    "    return number_of_trees\n",
    "\n"
   ]
  },
  {
   "cell_type": "markdown",
   "metadata": {},
   "source": [
    "## part 1"
   ]
  },
  {
   "cell_type": "code",
   "execution_count": 3,
   "metadata": {
    "scrolled": false
   },
   "outputs": [
    {
     "data": {
      "text/plain": [
       "244"
      ]
     },
     "execution_count": 3,
     "metadata": {},
     "output_type": "execute_result"
    }
   ],
   "source": [
    "tree_smasher_2020(right=3, down=1,  data=data)"
   ]
  },
  {
   "cell_type": "markdown",
   "metadata": {},
   "source": [
    "## part 2"
   ]
  },
  {
   "cell_type": "code",
   "execution_count": 4,
   "metadata": {},
   "outputs": [
    {
     "data": {
      "text/plain": [
       "9406609920"
      ]
     },
     "execution_count": 4,
     "metadata": {},
     "output_type": "execute_result"
    }
   ],
   "source": [
    "all_runs  = [[1,1], \n",
    "             [3,1], \n",
    "             [5,1], \n",
    "             [7,1], \n",
    "             [1,2]]\n",
    "\n",
    "smashed_trees = [tree_smasher_2020(right=x[0],down=x[1], data=data) for x in all_runs]\n",
    "ans = 1\n",
    "for x in smashed_trees:\n",
    "    ans*=x\n",
    "ans"
   ]
  },
  {
   "cell_type": "markdown",
   "metadata": {},
   "source": [
    "## Timings"
   ]
  },
  {
   "cell_type": "code",
   "execution_count": 5,
   "metadata": {},
   "outputs": [
    {
     "name": "stdout",
     "output_type": "stream",
     "text": [
      "4.09 ms ± 50.2 µs per loop (mean ± std. dev. of 7 runs, 100 loops each)\n"
     ]
    }
   ],
   "source": [
    "%timeit [tree_smasher_2020(right=x[0],down=x[1], data=data) for x in all_runs]"
   ]
  },
  {
   "cell_type": "code",
   "execution_count": 6,
   "metadata": {},
   "outputs": [
    {
     "name": "stdout",
     "output_type": "stream",
     "text": [
      "3.57 ms ± 14.3 µs per loop (mean ± std. dev. of 7 runs, 100 loops each)\n"
     ]
    }
   ],
   "source": [
    "%timeit [slim_smasher(right=x[0],down=x[1], data=data) for x in all_runs]"
   ]
  },
  {
   "cell_type": "code",
   "execution_count": 7,
   "metadata": {},
   "outputs": [
    {
     "name": "stdout",
     "output_type": "stream",
     "text": [
      "3.53 ms ± 17.9 µs per loop (mean ± std. dev. of 7 runs, 100 loops each)\n"
     ]
    }
   ],
   "source": [
    "%timeit [adder_smasher(right=x[0],down=x[1], data=data) for x in all_runs]"
   ]
  },
  {
   "cell_type": "code",
   "execution_count": null,
   "metadata": {},
   "outputs": [],
   "source": []
  }
 ],
 "metadata": {
  "kernelspec": {
   "display_name": "Python 3",
   "language": "python",
   "name": "python3"
  },
  "language_info": {
   "codemirror_mode": {
    "name": "ipython",
    "version": 3
   },
   "file_extension": ".py",
   "mimetype": "text/x-python",
   "name": "python",
   "nbconvert_exporter": "python",
   "pygments_lexer": "ipython3",
   "version": "3.7.7"
  }
 },
 "nbformat": 4,
 "nbformat_minor": 4
}
