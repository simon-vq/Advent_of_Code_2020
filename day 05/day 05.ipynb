{
 "cells": [
  {
   "cell_type": "code",
   "execution_count": 1,
   "metadata": {},
   "outputs": [],
   "source": [
    "data = [line.rstrip() for line in open('input.txt', 'r')]"
   ]
  },
  {
   "cell_type": "code",
   "execution_count": 8,
   "metadata": {},
   "outputs": [],
   "source": [
    "def char_to_binary(char):\n",
    "    if char == 'B':\n",
    "        return 1\n",
    "    elif char == 'F':\n",
    "        return 0\n",
    "    elif char == 'R':\n",
    "        return 1\n",
    "    elif char == 'L':\n",
    "        return 0\n",
    "    \n",
    "def split_row_col(data, pos):\n",
    "    row = data[:pos]\n",
    "    col = data[pos:]\n",
    "    return row, col\n",
    "\n",
    "def binary_to_int(data):\n",
    "    return int(data,2)\n",
    "\n",
    "def code_to_binary(data):\n",
    "    values = [str(char_to_binary(char)) for char in data]\n",
    "    str_values =  ''.join(values)\n",
    "    return str_values\n",
    "    \n",
    "def get_seat_coord(data):\n",
    "    row ,col = split_row_col(data, -3)\n",
    "    row = binary_to_int(code_to_binary(row))\n",
    "    col = binary_to_int(code_to_binary(col))\n",
    "    return row, col\n",
    "\n",
    "def get_seat_id(data, multi=8):\n",
    "    return (data[0] * multi) + data[1]"
   ]
  },
  {
   "cell_type": "markdown",
   "metadata": {},
   "source": [
    "## Test example"
   ]
  },
  {
   "cell_type": "code",
   "execution_count": 9,
   "metadata": {},
   "outputs": [
    {
     "name": "stdout",
     "output_type": "stream",
     "text": [
      "357\n",
      "567\n",
      "119\n",
      "820\n"
     ]
    }
   ],
   "source": [
    "tests = ['FBFBBFFRLR',\n",
    "        'BFFFBBFRRR',\n",
    "        'FFFBBBFRRR',\n",
    "        'BBFFBBFRLL']\n",
    "\n",
    "for i, test in enumerate(tests):\n",
    "    print(get_seat_id(get_seat_coord(test)))"
   ]
  },
  {
   "cell_type": "markdown",
   "metadata": {},
   "source": [
    "## part 1"
   ]
  },
  {
   "cell_type": "code",
   "execution_count": 4,
   "metadata": {},
   "outputs": [
    {
     "data": {
      "text/plain": [
       "965"
      ]
     },
     "execution_count": 4,
     "metadata": {},
     "output_type": "execute_result"
    }
   ],
   "source": [
    "all_coords = [get_seat_coord(code) for code in data]\n",
    "all_ids = [get_seat_id(coord) for coord in all_coords]\n",
    "max(all_ids)"
   ]
  },
  {
   "cell_type": "markdown",
   "metadata": {},
   "source": [
    "## part 2"
   ]
  },
  {
   "cell_type": "code",
   "execution_count": 5,
   "metadata": {},
   "outputs": [
    {
     "name": "stdout",
     "output_type": "stream",
     "text": [
      "Missing seat: row=65, col=4, id=524\n"
     ]
    }
   ],
   "source": [
    "all_seats = [get_seat_coord(code) for code in data]\n",
    "all_seats.sort()\n",
    "pre = 0\n",
    "for row, col in all_seats: \n",
    "    if pre:\n",
    "        if pre[0] == row:\n",
    "            coord = (row,col-1)\n",
    "            if pre != coord:\n",
    "                print(f'Missing seat: row={coord[0]}, col={coord[1]}, id={get_seat_id(coord)}')\n",
    "\n",
    "    pre = (row,col)"
   ]
  }
 ],
 "metadata": {
  "kernelspec": {
   "display_name": "Python 3",
   "language": "python",
   "name": "python3"
  },
  "language_info": {
   "codemirror_mode": {
    "name": "ipython",
    "version": 3
   },
   "file_extension": ".py",
   "mimetype": "text/x-python",
   "name": "python",
   "nbconvert_exporter": "python",
   "pygments_lexer": "ipython3",
   "version": "3.7.7"
  }
 },
 "nbformat": 4,
 "nbformat_minor": 4
}
