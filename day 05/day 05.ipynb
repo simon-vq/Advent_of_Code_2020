{
 "cells": [
  {
   "cell_type": "code",
   "execution_count": 1,
   "metadata": {},
   "outputs": [],
   "source": [
    "data = [line.rstrip() for line in open('input.txt', 'r')]"
   ]
  },
  {
   "cell_type": "code",
   "execution_count": 2,
   "metadata": {},
   "outputs": [],
   "source": [
    "def char_to_binary(char):\n",
    "    if char == 'B':\n",
    "        return 1\n",
    "    elif char == 'F':\n",
    "        return 0\n",
    "    elif char == 'R':\n",
    "        return 1\n",
    "    elif char == 'L':\n",
    "        return 0\n",
    "    \n",
    "def split_row_col(data, pos):\n",
    "    row = data[:pos]\n",
    "    col = data[pos:]\n",
    "    return row, col\n",
    "\n",
    "def binary_to_int(data):\n",
    "    return int(data,2)\n",
    "\n",
    "def convert_binary_string(data):\n",
    "    values = [str(char_to_binary(char)) for char in data]\n",
    "    str_values =  ''.join(values)\n",
    "    return binary_to_int(str_values)\n",
    "    \n",
    "def get_seat_coord(data):\n",
    "    row ,col = split_row_col(data, -3)\n",
    "    row = convert_binary_string(row)\n",
    "    col = convert_binary_string(col)\n",
    "    return row, col\n",
    "\n",
    "def get_seat_id(data, multi=8):\n",
    "    return (data[0] * multi) + data[1]"
   ]
  },
  {
   "cell_type": "markdown",
   "metadata": {},
   "source": [
    "## Test example"
   ]
  },
  {
   "cell_type": "code",
   "execution_count": 3,
   "metadata": {},
   "outputs": [],
   "source": [
    "tests = ['FBFBBFFRLR',\n",
    "        'BFFFBBFRRR',\n",
    "        'FFFBBBFRRR',\n",
    "        'BBFFBBFRLL']\n",
    "\n",
    "for i, test in enumerate(tests):\n",
    "    print(get_seat_id(get_seat_coord(test)))"
   ]
  },
  {
   "cell_type": "markdown",
   "metadata": {},
   "source": [
    "## part 1"
   ]
  },
  {
   "cell_type": "code",
   "execution_count": 4,
   "metadata": {},
   "outputs": [],
   "source": [
    "all_coords = [get_seat_coord(code) for code in data]\n",
    "all_ids = [get_seat_id(coord) for coord in all_coords]\n",
    "max(all_ids)"
   ]
  },
  {
   "cell_type": "markdown",
   "metadata": {},
   "source": [
    "## part 2"
   ]
  },
  {
   "cell_type": "code",
   "execution_count": 5,
   "metadata": {},
   "outputs": [],
   "source": [
    "all_seats = [get_seat_coord(code) for code in data]\n",
    "all_seats.sort()\n",
    "pre = 0\n",
    "for row, col in all_seats: \n",
    "    if pre:\n",
    "        if pre[0] == row:\n",
    "            coord = (row,col-1)\n",
    "            #f col-1 != pre[1]:\n",
    "            if pre != coord:\n",
    "                print(f'Missing seat: row={coord[0]}, col={coord[1]}, id={get_seat_id(coord)}')\n",
    "\n",
    "    pre = (row,col)"
   ]
  }
 ],
 "metadata": {
  "kernelspec": {
   "display_name": "Python 3",
   "language": "python",
   "name": "python3"
  },
  "language_info": {
   "codemirror_mode": {
    "name": "ipython",
    "version": 3
   },
   "file_extension": ".py",
   "mimetype": "text/x-python",
   "name": "python",
   "nbconvert_exporter": "python",
   "pygments_lexer": "ipython3",
   "version": "3.7.7"
  }
 },
 "nbformat": 4,
 "nbformat_minor": 4
}
