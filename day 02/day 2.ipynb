{
 "cells": [
  {
   "cell_type": "code",
   "execution_count": 1,
   "metadata": {},
   "outputs": [],
   "source": [
    "data = [line.rstrip() for line in open('input.txt', 'r')]\n"
   ]
  },
  {
   "cell_type": "markdown",
   "metadata": {},
   "source": [
    "## part 1"
   ]
  },
  {
   "cell_type": "code",
   "execution_count": 11,
   "metadata": {},
   "outputs": [
    {
     "data": {
      "text/plain": [
       "456"
      ]
     },
     "execution_count": 11,
     "metadata": {},
     "output_type": "execute_result"
    }
   ],
   "source": [
    "correct = 0\n",
    "for item in data:\n",
    "    split_item = item.split()\n",
    "    min_max =[int(x) for x in split_item[0].split(\"-\")]\n",
    "    char = split_item[1][:-1]\n",
    "    char_count = split_item[2].count(char)\n",
    "    \n",
    "    if char_count >= min_max[0] and \\\n",
    "       char_count <= min_max[1]:\n",
    "        correct +=1\n",
    "\n",
    "correct"
   ]
  },
  {
   "cell_type": "markdown",
   "metadata": {},
   "source": [
    "## part 2"
   ]
  },
  {
   "cell_type": "code",
   "execution_count": 7,
   "metadata": {},
   "outputs": [
    {
     "data": {
      "text/plain": [
       "308"
      ]
     },
     "execution_count": 7,
     "metadata": {},
     "output_type": "execute_result"
    }
   ],
   "source": [
    "from operator import xor\n",
    "correct = 0\n",
    "for item in data:\n",
    "    split_item = item.split()\n",
    "    min_max =[int(x) for x in split_item[0].split(\"-\")]\n",
    "    char = split_item[1][:-1]\n",
    "    string = split_item[2]\n",
    "    \n",
    "    if xor(string[min_max[0]-1] == char, \n",
    "           string[min_max[1]-1] == char):\n",
    "        correct +=1\n",
    "\n",
    "correct"
   ]
  },
  {
   "cell_type": "code",
   "execution_count": null,
   "metadata": {},
   "outputs": [],
   "source": []
  }
 ],
 "metadata": {
  "kernelspec": {
   "display_name": "Python 3",
   "language": "python",
   "name": "python3"
  },
  "language_info": {
   "codemirror_mode": {
    "name": "ipython",
    "version": 3
   },
   "file_extension": ".py",
   "mimetype": "text/x-python",
   "name": "python",
   "nbconvert_exporter": "python",
   "pygments_lexer": "ipython3",
   "version": "3.7.7"
  }
 },
 "nbformat": 4,
 "nbformat_minor": 4
}
