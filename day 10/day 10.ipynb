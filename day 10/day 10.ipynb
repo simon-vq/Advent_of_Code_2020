{
 "cells": [
  {
   "cell_type": "code",
   "execution_count": 1,
   "metadata": {},
   "outputs": [],
   "source": [
    "data = [int(line.rstrip()) for line in open('input.txt','r')]\n",
    "data.append(max(data)+3) # add device\n",
    "data.append(0) # add port\n",
    "data.sort()"
   ]
  },
  {
   "cell_type": "markdown",
   "metadata": {},
   "source": [
    "## part 1"
   ]
  },
  {
   "cell_type": "code",
   "execution_count": 2,
   "metadata": {},
   "outputs": [
    {
     "data": {
      "text/plain": [
       "3034"
      ]
     },
     "execution_count": 2,
     "metadata": {},
     "output_type": "execute_result"
    }
   ],
   "source": [
    "diff_dict = {}\n",
    "for i,jolt in enumerate(data):\n",
    "    next_i = i+1\n",
    "    if next_i < len(data):\n",
    "        diff = data[next_i] - jolt\n",
    "        if diff in diff_dict:\n",
    "            diff_dict[diff] += 1\n",
    "        else:\n",
    "            diff_dict[diff] = 1\n",
    "\n",
    "# multiply the values in dict\n",
    "value = 1\n",
    "for key in diff_dict:\n",
    "    value *= diff_dict[key]\n",
    "value"
   ]
  },
  {
   "cell_type": "markdown",
   "metadata": {},
   "source": [
    "## part 2"
   ]
  },
  {
   "cell_type": "code",
   "execution_count": 3,
   "metadata": {},
   "outputs": [],
   "source": [
    "# adpated from https://www.python.org/doc/essays/graphs/\n",
    "def find_all_paths(graph, start, end, path=[]):\n",
    "    path = path + [start]\n",
    "    if start == end:\n",
    "        return [path]\n",
    "    if not graph.get(start):\n",
    "        return []\n",
    "    paths = []\n",
    "    for node in graph[start]:\n",
    "        if node not in path:\n",
    "            newpaths = find_all_paths(graph, node, end, path)\n",
    "            for newpath in newpaths:\n",
    "                paths.append(newpath)\n",
    "    return paths"
   ]
  },
  {
   "cell_type": "code",
   "execution_count": 5,
   "metadata": {},
   "outputs": [
    {
     "data": {
      "text/plain": [
       "259172170858496"
      ]
     },
     "execution_count": 5,
     "metadata": {},
     "output_type": "execute_result"
    }
   ],
   "source": [
    "count = 1\n",
    "sub_list = []\n",
    "for i, jolt in enumerate(data):\n",
    "    if i+1 >= len(data):\n",
    "        break\n",
    "    if data[i+1]-jolt > 1:\n",
    "        sub_list.append(jolt)\n",
    "        #convert sub_list in to graph\n",
    "        graph = {}\n",
    "        for item in sub_list:\n",
    "            path = []\n",
    "            if item +1 in sub_list:\n",
    "                path.append(item+1)\n",
    "            if item+2 in sub_list:\n",
    "                path.append(item+2)\n",
    "            if item+3 in sub_list:\n",
    "                path.append(item+3)\n",
    "            graph[item] = path\n",
    "\n",
    "        count *= len(find_all_paths(graph,sub_list[0], sub_list[-1]))\n",
    "\n",
    "        sub_list = []\n",
    "    else:\n",
    "        sub_list.append(jolt)\n",
    "count   "
   ]
  },
  {
   "cell_type": "code",
   "execution_count": null,
   "metadata": {},
   "outputs": [],
   "source": []
  }
 ],
 "metadata": {
  "kernelspec": {
   "display_name": "Python 3",
   "language": "python",
   "name": "python3"
  },
  "language_info": {
   "codemirror_mode": {
    "name": "ipython",
    "version": 3
   },
   "file_extension": ".py",
   "mimetype": "text/x-python",
   "name": "python",
   "nbconvert_exporter": "python",
   "pygments_lexer": "ipython3",
   "version": "3.7.7"
  }
 },
 "nbformat": 4,
 "nbformat_minor": 4
}
