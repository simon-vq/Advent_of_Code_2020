{
 "cells": [
  {
   "cell_type": "code",
   "execution_count": 1,
   "metadata": {},
   "outputs": [],
   "source": [
    "data = [line.rstrip() for line in open(\"input.txt\")]"
   ]
  },
  {
   "cell_type": "code",
   "execution_count": 2,
   "metadata": {},
   "outputs": [],
   "source": [
    "all_answer_by_group = {}\n",
    "count= 0\n",
    "for item in data:\n",
    "    if len(item):\n",
    "        if count in all_answer_by_group:\n",
    "            all_answer_by_group[count].append(item)\n",
    "        else:\n",
    "            all_answer_by_group[count] = [item]\n",
    "    else:\n",
    "        count +=1"
   ]
  },
  {
   "cell_type": "markdown",
   "metadata": {},
   "source": [
    "## part 1         "
   ]
  },
  {
   "cell_type": "code",
   "execution_count": 3,
   "metadata": {},
   "outputs": [
    {
     "data": {
      "text/plain": [
       "6534"
      ]
     },
     "execution_count": 3,
     "metadata": {},
     "output_type": "execute_result"
    }
   ],
   "source": [
    "count= 0\n",
    "for key in all_answer_by_group:\n",
    "    group = all_answer_by_group[key]\n",
    "    answer_set = set()\n",
    "    [answer_set.add(answer) for person in group for answer in person]\n",
    "    count += len(answer_set)\n",
    "count"
   ]
  },
  {
   "cell_type": "markdown",
   "metadata": {},
   "source": [
    "## part 2"
   ]
  },
  {
   "cell_type": "code",
   "execution_count": 4,
   "metadata": {},
   "outputs": [
    {
     "data": {
      "text/plain": [
       "3402"
      ]
     },
     "execution_count": 4,
     "metadata": {},
     "output_type": "execute_result"
    }
   ],
   "source": [
    "count = 0\n",
    "for key in all_answer_by_group:\n",
    "    group = all_answer_by_group[key]\n",
    "    for i, person in enumerate(group):\n",
    "        if not i:\n",
    "            answers = set(person)\n",
    "        else:\n",
    "            answers = answers.intersection(person)\n",
    "    count += len(answers)\n",
    "count"
   ]
  }
 ],
 "metadata": {
  "kernelspec": {
   "display_name": "Python 3",
   "language": "python",
   "name": "python3"
  },
  "language_info": {
   "codemirror_mode": {
    "name": "ipython",
    "version": 3
   },
   "file_extension": ".py",
   "mimetype": "text/x-python",
   "name": "python",
   "nbconvert_exporter": "python",
   "pygments_lexer": "ipython3",
   "version": "3.7.7"
  }
 },
 "nbformat": 4,
 "nbformat_minor": 4
}
